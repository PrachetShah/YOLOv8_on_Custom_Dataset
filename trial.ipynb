{
 "cells": [
  {
   "cell_type": "code",
   "execution_count": 28,
   "metadata": {},
   "outputs": [],
   "source": [
    "import pandas as pd # data processing, CSV file I/O (e.g. pd.read_csv)\n",
    "import numpy as np\n",
    "\n",
    "\n",
    "# import useful tools\n",
    "from glob import glob\n",
    "from PIL import Image\n",
    "\n",
    "# import data visualization\n",
    "import matplotlib.pyplot as plt\n",
    "import matplotlib.patches as patches\n",
    "\n",
    "from tqdm.auto import tqdm\n",
    "import shutil as sh\n",
    "\n",
    "# import data augmentation\n",
    "import albumentations as albu\n",
    "\n",
    "# Setup the paths to train and test images\n",
    "train=pd.read_csv('dataset/train.csv')\n",
    "test=pd.read_csv('dataset/test.csv')\n",
    "\n",
    "Images='dataset/train/'\n",
    "# Glob the directories and get the lists of train and test images\n",
    "img = glob(Images + '*')"
   ]
  },
  {
   "cell_type": "code",
   "execution_count": 29,
   "metadata": {},
   "outputs": [],
   "source": [
    "# !pip install ipywidgets"
   ]
  },
  {
   "cell_type": "code",
   "execution_count": 30,
   "metadata": {},
   "outputs": [
    {
     "name": "stdout",
     "output_type": "stream",
     "text": [
      "Total Number of images is 10233\n"
     ]
    }
   ],
   "source": [
    "# Compute at the number of images:\n",
    "print('Total Number of images is {}'.format(len(img)))"
   ]
  },
  {
   "cell_type": "code",
   "execution_count": 31,
   "metadata": {},
   "outputs": [
    {
     "name": "stdout",
     "output_type": "stream",
     "text": [
      "Number of image in train data are 10233\n"
     ]
    },
    {
     "data": {
      "text/html": [
       "<div>\n",
       "<style scoped>\n",
       "    .dataframe tbody tr th:only-of-type {\n",
       "        vertical-align: middle;\n",
       "    }\n",
       "\n",
       "    .dataframe tbody tr th {\n",
       "        vertical-align: top;\n",
       "    }\n",
       "\n",
       "    .dataframe thead th {\n",
       "        text-align: right;\n",
       "    }\n",
       "</style>\n",
       "<table border=\"1\" class=\"dataframe\">\n",
       "  <thead>\n",
       "    <tr style=\"text-align: right;\">\n",
       "      <th></th>\n",
       "      <th>Name</th>\n",
       "      <th>HeadCount</th>\n",
       "    </tr>\n",
       "  </thead>\n",
       "  <tbody>\n",
       "    <tr>\n",
       "      <th>0</th>\n",
       "      <td>1.jpg</td>\n",
       "      <td>11</td>\n",
       "    </tr>\n",
       "    <tr>\n",
       "      <th>1</th>\n",
       "      <td>2.jpg</td>\n",
       "      <td>6</td>\n",
       "    </tr>\n",
       "    <tr>\n",
       "      <th>2</th>\n",
       "      <td>4.jpg</td>\n",
       "      <td>5</td>\n",
       "    </tr>\n",
       "    <tr>\n",
       "      <th>3</th>\n",
       "      <td>5.jpg</td>\n",
       "      <td>9</td>\n",
       "    </tr>\n",
       "    <tr>\n",
       "      <th>4</th>\n",
       "      <td>6.jpg</td>\n",
       "      <td>6</td>\n",
       "    </tr>\n",
       "  </tbody>\n",
       "</table>\n",
       "</div>"
      ],
      "text/plain": [
       "    Name  HeadCount\n",
       "0  1.jpg         11\n",
       "1  2.jpg          6\n",
       "2  4.jpg          5\n",
       "3  5.jpg          9\n",
       "4  6.jpg          6"
      ]
     },
     "execution_count": 31,
     "metadata": {},
     "output_type": "execute_result"
    }
   ],
   "source": [
    "print('Number of image in train data are {}'.format(train.shape[0]))\n",
    "train.head()"
   ]
  },
  {
   "cell_type": "code",
   "execution_count": 32,
   "metadata": {},
   "outputs": [
    {
     "name": "stdout",
     "output_type": "stream",
     "text": [
      "10233 10233\n"
     ]
    },
    {
     "data": {
      "text/html": [
       "<div>\n",
       "<style scoped>\n",
       "    .dataframe tbody tr th:only-of-type {\n",
       "        vertical-align: middle;\n",
       "    }\n",
       "\n",
       "    .dataframe tbody tr th {\n",
       "        vertical-align: top;\n",
       "    }\n",
       "\n",
       "    .dataframe thead th {\n",
       "        text-align: right;\n",
       "    }\n",
       "</style>\n",
       "<table border=\"1\" class=\"dataframe\">\n",
       "  <thead>\n",
       "    <tr style=\"text-align: right;\">\n",
       "      <th></th>\n",
       "      <th>Name</th>\n",
       "      <th>HeadCount</th>\n",
       "      <th>width</th>\n",
       "      <th>height</th>\n",
       "    </tr>\n",
       "  </thead>\n",
       "  <tbody>\n",
       "    <tr>\n",
       "      <th>0</th>\n",
       "      <td>1.jpg</td>\n",
       "      <td>11</td>\n",
       "      <td>1080</td>\n",
       "      <td>720</td>\n",
       "    </tr>\n",
       "    <tr>\n",
       "      <th>1</th>\n",
       "      <td>2.jpg</td>\n",
       "      <td>6</td>\n",
       "      <td>1080</td>\n",
       "      <td>720</td>\n",
       "    </tr>\n",
       "    <tr>\n",
       "      <th>2</th>\n",
       "      <td>4.jpg</td>\n",
       "      <td>5</td>\n",
       "      <td>1080</td>\n",
       "      <td>720</td>\n",
       "    </tr>\n",
       "    <tr>\n",
       "      <th>3</th>\n",
       "      <td>5.jpg</td>\n",
       "      <td>9</td>\n",
       "      <td>612</td>\n",
       "      <td>408</td>\n",
       "    </tr>\n",
       "    <tr>\n",
       "      <th>4</th>\n",
       "      <td>6.jpg</td>\n",
       "      <td>6</td>\n",
       "      <td>612</td>\n",
       "      <td>408</td>\n",
       "    </tr>\n",
       "  </tbody>\n",
       "</table>\n",
       "</div>"
      ],
      "text/plain": [
       "    Name  HeadCount  width  height\n",
       "0  1.jpg         11   1080     720\n",
       "1  2.jpg          6   1080     720\n",
       "2  4.jpg          5   1080     720\n",
       "3  5.jpg          9    612     408\n",
       "4  6.jpg          6    612     408"
      ]
     },
     "execution_count": 32,
     "metadata": {},
     "output_type": "execute_result"
    }
   ],
   "source": [
    "# adding width and height in train of images\n",
    "width, height = [], []\n",
    "for image in img:\n",
    "  width.append(Image.open(image).width)\n",
    "  height.append(Image.open(image).height)\n",
    "  # train_images[\"height\"] = Image.open(Images+train_images[\"Name\"]).height\n",
    "print(len(width), len(height))\n",
    "train[\"width\"] = width\n",
    "train[\"height\"] = height\n",
    "train.head()"
   ]
  },
  {
   "cell_type": "code",
   "execution_count": 33,
   "metadata": {},
   "outputs": [
    {
     "data": {
      "text/html": [
       "<div>\n",
       "<style scoped>\n",
       "    .dataframe tbody tr th:only-of-type {\n",
       "        vertical-align: middle;\n",
       "    }\n",
       "\n",
       "    .dataframe tbody tr th {\n",
       "        vertical-align: top;\n",
       "    }\n",
       "\n",
       "    .dataframe thead th {\n",
       "        text-align: right;\n",
       "    }\n",
       "</style>\n",
       "<table border=\"1\" class=\"dataframe\">\n",
       "  <thead>\n",
       "    <tr style=\"text-align: right;\">\n",
       "      <th></th>\n",
       "      <th>Name</th>\n",
       "      <th>xmin</th>\n",
       "      <th>ymin</th>\n",
       "      <th>xmax</th>\n",
       "      <th>ymax</th>\n",
       "      <th>class</th>\n",
       "    </tr>\n",
       "  </thead>\n",
       "  <tbody>\n",
       "    <tr>\n",
       "      <th>0</th>\n",
       "      <td>1.jpg</td>\n",
       "      <td>805</td>\n",
       "      <td>264</td>\n",
       "      <td>917</td>\n",
       "      <td>371</td>\n",
       "      <td>head</td>\n",
       "    </tr>\n",
       "    <tr>\n",
       "      <th>1</th>\n",
       "      <td>1.jpg</td>\n",
       "      <td>558</td>\n",
       "      <td>338</td>\n",
       "      <td>584</td>\n",
       "      <td>374</td>\n",
       "      <td>head</td>\n",
       "    </tr>\n",
       "    <tr>\n",
       "      <th>2</th>\n",
       "      <td>1.jpg</td>\n",
       "      <td>487</td>\n",
       "      <td>341</td>\n",
       "      <td>515</td>\n",
       "      <td>368</td>\n",
       "      <td>head</td>\n",
       "    </tr>\n",
       "    <tr>\n",
       "      <th>3</th>\n",
       "      <td>1.jpg</td>\n",
       "      <td>1014</td>\n",
       "      <td>340</td>\n",
       "      <td>1056</td>\n",
       "      <td>383</td>\n",
       "      <td>head</td>\n",
       "    </tr>\n",
       "    <tr>\n",
       "      <th>4</th>\n",
       "      <td>1.jpg</td>\n",
       "      <td>432</td>\n",
       "      <td>364</td>\n",
       "      <td>438</td>\n",
       "      <td>371</td>\n",
       "      <td>head</td>\n",
       "    </tr>\n",
       "  </tbody>\n",
       "</table>\n",
       "</div>"
      ],
      "text/plain": [
       "    Name  xmin  ymin  xmax  ymax class\n",
       "0  1.jpg   805   264   917   371  head\n",
       "1  1.jpg   558   338   584   374  head\n",
       "2  1.jpg   487   341   515   368  head\n",
       "3  1.jpg  1014   340  1056   383  head\n",
       "4  1.jpg   432   364   438   371  head"
      ]
     },
     "execution_count": 33,
     "metadata": {},
     "output_type": "execute_result"
    }
   ],
   "source": [
    "# whats in bbox.csv\n",
    "bbox=pd.read_csv('dataset/bbox.csv')\n",
    "bbox.head()"
   ]
  },
  {
   "cell_type": "code",
   "execution_count": 34,
   "metadata": {},
   "outputs": [],
   "source": [
    "# Merge all train images with the bounding boxes dataframe\n",
    "train_images = train.merge(bbox, on='Name', how='left')"
   ]
  },
  {
   "cell_type": "code",
   "execution_count": 35,
   "metadata": {},
   "outputs": [
    {
     "data": {
      "text/html": [
       "<div>\n",
       "<style scoped>\n",
       "    .dataframe tbody tr th:only-of-type {\n",
       "        vertical-align: middle;\n",
       "    }\n",
       "\n",
       "    .dataframe tbody tr th {\n",
       "        vertical-align: top;\n",
       "    }\n",
       "\n",
       "    .dataframe thead th {\n",
       "        text-align: right;\n",
       "    }\n",
       "</style>\n",
       "<table border=\"1\" class=\"dataframe\">\n",
       "  <thead>\n",
       "    <tr style=\"text-align: right;\">\n",
       "      <th></th>\n",
       "      <th>Name</th>\n",
       "      <th>HeadCount</th>\n",
       "      <th>width</th>\n",
       "      <th>height</th>\n",
       "      <th>xmin</th>\n",
       "      <th>ymin</th>\n",
       "      <th>xmax</th>\n",
       "      <th>ymax</th>\n",
       "      <th>class</th>\n",
       "    </tr>\n",
       "  </thead>\n",
       "  <tbody>\n",
       "    <tr>\n",
       "      <th>0</th>\n",
       "      <td>1.jpg</td>\n",
       "      <td>11</td>\n",
       "      <td>1080</td>\n",
       "      <td>720</td>\n",
       "      <td>805</td>\n",
       "      <td>264</td>\n",
       "      <td>917</td>\n",
       "      <td>371</td>\n",
       "      <td>head</td>\n",
       "    </tr>\n",
       "    <tr>\n",
       "      <th>1</th>\n",
       "      <td>1.jpg</td>\n",
       "      <td>11</td>\n",
       "      <td>1080</td>\n",
       "      <td>720</td>\n",
       "      <td>558</td>\n",
       "      <td>338</td>\n",
       "      <td>584</td>\n",
       "      <td>374</td>\n",
       "      <td>head</td>\n",
       "    </tr>\n",
       "    <tr>\n",
       "      <th>2</th>\n",
       "      <td>1.jpg</td>\n",
       "      <td>11</td>\n",
       "      <td>1080</td>\n",
       "      <td>720</td>\n",
       "      <td>487</td>\n",
       "      <td>341</td>\n",
       "      <td>515</td>\n",
       "      <td>368</td>\n",
       "      <td>head</td>\n",
       "    </tr>\n",
       "    <tr>\n",
       "      <th>3</th>\n",
       "      <td>1.jpg</td>\n",
       "      <td>11</td>\n",
       "      <td>1080</td>\n",
       "      <td>720</td>\n",
       "      <td>1014</td>\n",
       "      <td>340</td>\n",
       "      <td>1056</td>\n",
       "      <td>383</td>\n",
       "      <td>head</td>\n",
       "    </tr>\n",
       "    <tr>\n",
       "      <th>4</th>\n",
       "      <td>1.jpg</td>\n",
       "      <td>11</td>\n",
       "      <td>1080</td>\n",
       "      <td>720</td>\n",
       "      <td>432</td>\n",
       "      <td>364</td>\n",
       "      <td>438</td>\n",
       "      <td>371</td>\n",
       "      <td>head</td>\n",
       "    </tr>\n",
       "  </tbody>\n",
       "</table>\n",
       "</div>"
      ],
      "text/plain": [
       "    Name  HeadCount  width  height  xmin  ymin  xmax  ymax class\n",
       "0  1.jpg         11   1080     720   805   264   917   371  head\n",
       "1  1.jpg         11   1080     720   558   338   584   374  head\n",
       "2  1.jpg         11   1080     720   487   341   515   368  head\n",
       "3  1.jpg         11   1080     720  1014   340  1056   383  head\n",
       "4  1.jpg         11   1080     720   432   364   438   371  head"
      ]
     },
     "execution_count": 35,
     "metadata": {},
     "output_type": "execute_result"
    }
   ],
   "source": [
    "df=train_images\n",
    "df.head()"
   ]
  },
  {
   "cell_type": "code",
   "execution_count": 36,
   "metadata": {},
   "outputs": [],
   "source": [
    "df['x_center'] = df['xmin'] + df['width']/2\n",
    "df['y_center'] = df['ymin'] + df['height']/2\n",
    "df['classes'] = 0\n",
    "\n",
    "df['image_id']=df['Name'].str.replace('.jpg','')\n",
    "\n",
    "df = df[['image_id','xmin', 'ymin', 'width', 'height','x_center','y_center','classes']]"
   ]
  },
  {
   "cell_type": "code",
   "execution_count": 37,
   "metadata": {},
   "outputs": [
    {
     "name": "stdout",
     "output_type": "stream",
     "text": [
      "Shape of df is (62529, 8)\n"
     ]
    },
    {
     "data": {
      "text/html": [
       "<div>\n",
       "<style scoped>\n",
       "    .dataframe tbody tr th:only-of-type {\n",
       "        vertical-align: middle;\n",
       "    }\n",
       "\n",
       "    .dataframe tbody tr th {\n",
       "        vertical-align: top;\n",
       "    }\n",
       "\n",
       "    .dataframe thead th {\n",
       "        text-align: right;\n",
       "    }\n",
       "</style>\n",
       "<table border=\"1\" class=\"dataframe\">\n",
       "  <thead>\n",
       "    <tr style=\"text-align: right;\">\n",
       "      <th></th>\n",
       "      <th>image_id</th>\n",
       "      <th>xmin</th>\n",
       "      <th>ymin</th>\n",
       "      <th>width</th>\n",
       "      <th>height</th>\n",
       "      <th>x_center</th>\n",
       "      <th>y_center</th>\n",
       "      <th>classes</th>\n",
       "    </tr>\n",
       "  </thead>\n",
       "  <tbody>\n",
       "    <tr>\n",
       "      <th>0</th>\n",
       "      <td>1</td>\n",
       "      <td>805</td>\n",
       "      <td>264</td>\n",
       "      <td>1080</td>\n",
       "      <td>720</td>\n",
       "      <td>1345.0</td>\n",
       "      <td>624.0</td>\n",
       "      <td>0</td>\n",
       "    </tr>\n",
       "    <tr>\n",
       "      <th>1</th>\n",
       "      <td>1</td>\n",
       "      <td>558</td>\n",
       "      <td>338</td>\n",
       "      <td>1080</td>\n",
       "      <td>720</td>\n",
       "      <td>1098.0</td>\n",
       "      <td>698.0</td>\n",
       "      <td>0</td>\n",
       "    </tr>\n",
       "    <tr>\n",
       "      <th>2</th>\n",
       "      <td>1</td>\n",
       "      <td>487</td>\n",
       "      <td>341</td>\n",
       "      <td>1080</td>\n",
       "      <td>720</td>\n",
       "      <td>1027.0</td>\n",
       "      <td>701.0</td>\n",
       "      <td>0</td>\n",
       "    </tr>\n",
       "    <tr>\n",
       "      <th>3</th>\n",
       "      <td>1</td>\n",
       "      <td>1014</td>\n",
       "      <td>340</td>\n",
       "      <td>1080</td>\n",
       "      <td>720</td>\n",
       "      <td>1554.0</td>\n",
       "      <td>700.0</td>\n",
       "      <td>0</td>\n",
       "    </tr>\n",
       "    <tr>\n",
       "      <th>4</th>\n",
       "      <td>1</td>\n",
       "      <td>432</td>\n",
       "      <td>364</td>\n",
       "      <td>1080</td>\n",
       "      <td>720</td>\n",
       "      <td>972.0</td>\n",
       "      <td>724.0</td>\n",
       "      <td>0</td>\n",
       "    </tr>\n",
       "  </tbody>\n",
       "</table>\n",
       "</div>"
      ],
      "text/plain": [
       "  image_id  xmin  ymin  width  height  x_center  y_center  classes\n",
       "0        1   805   264   1080     720    1345.0     624.0        0\n",
       "1        1   558   338   1080     720    1098.0     698.0        0\n",
       "2        1   487   341   1080     720    1027.0     701.0        0\n",
       "3        1  1014   340   1080     720    1554.0     700.0        0\n",
       "4        1   432   364   1080     720     972.0     724.0        0"
      ]
     },
     "execution_count": 37,
     "metadata": {},
     "output_type": "execute_result"
    }
   ],
   "source": [
    "print(f\"Shape of df is {df.shape}\")\n",
    "df.head()"
   ]
  },
  {
   "cell_type": "code",
   "execution_count": 38,
   "metadata": {},
   "outputs": [
    {
     "data": {
      "text/plain": [
       "10233"
      ]
     },
     "execution_count": 38,
     "metadata": {},
     "output_type": "execute_result"
    }
   ],
   "source": [
    "# count\n",
    "index = list(set(df.image_id))\n",
    "len(index)"
   ]
  },
  {
   "cell_type": "code",
   "execution_count": 39,
   "metadata": {},
   "outputs": [],
   "source": [
    "from IPython.display import Image, clear_output"
   ]
  },
  {
   "cell_type": "code",
   "execution_count": 40,
   "metadata": {},
   "outputs": [],
   "source": [
    "# import required dependencies\n",
    "import os\n",
    "import numpy as np # linear algebra\n",
    "import pandas as pd # data processing, CSV file I/O (e.g. pd.read_csv)\n",
    "import os\n",
    "from tqdm.auto import tqdm\n",
    "import shutil as sh\n",
    "\n",
    "import matplotlib.pyplot as plt\n",
    "\n",
    "%matplotlib inline"
   ]
  },
  {
   "cell_type": "code",
   "execution_count": 41,
   "metadata": {},
   "outputs": [],
   "source": [
    "# !git clone https://github.com/AIVenture0/yolov5.git"
   ]
  },
  {
   "cell_type": "code",
   "execution_count": 42,
   "metadata": {},
   "outputs": [],
   "source": [
    "# # move all the files of YOLOv5 to current working directory\n",
    "# !move yolov5/* ./"
   ]
  },
  {
   "cell_type": "code",
   "execution_count": 43,
   "metadata": {},
   "outputs": [],
   "source": [
    "# !pip install -r requirements.txt"
   ]
  },
  {
   "cell_type": "code",
   "execution_count": 44,
   "metadata": {},
   "outputs": [],
   "source": [
    "import os"
   ]
  },
  {
   "cell_type": "code",
   "execution_count": 45,
   "metadata": {},
   "outputs": [],
   "source": [
    "# code to transform the dataset.\n",
    "\n",
    "# ALREADY TRANSFORMED\n",
    "\n",
    "# source = 'dataset'\n",
    "# if True:\n",
    "#     for fold in [0]:\n",
    "#         val_index = index[len(index)*fold//5:len(index)*(fold+1)//5]\n",
    "#         for name,mini in tqdm(df.groupby('image_id')):\n",
    "#             if name in val_index:\n",
    "#                 path2save = 'val2017/'\n",
    "#             else:\n",
    "#                 path2save = 'train2017/'\n",
    "#             if not os.path.exists('convertor/fold{}/labels/'.format(fold)+path2save):\n",
    "#                 os.makedirs('convertor/fold{}/labels/'.format(fold)+path2save)\n",
    "#             with open('convertor/fold{}/labels/'.format(fold)+path2save+name+\".txt\", 'w+') as f:\n",
    "#                 row = mini[['classes','x_center','y_center','width','height']].astype(float).values\n",
    "#                 row = row/1024\n",
    "#                 row = row.astype(str)\n",
    "#                 for j in range(len(row)):\n",
    "#                     text = ' '.join(row[j])\n",
    "#                     f.write(text)\n",
    "#                     f.write(\"\\n\")\n",
    "#             if not os.path.exists('convertor/fold{}/images/{}'.format(fold,path2save)):\n",
    "#                 os.makedirs('convertor/fold{}/images/{}'.format(fold,path2save))\n",
    "#             sh.copy(\"C:/Users/prach/Desktop/Prachet/Hackathons/Vista Codefest24/{}/train/{}.jpg\".format(source,name),'convertor/fold{}/images/{}/{}.jpg'.format(fold,path2save,name))"
   ]
  },
  {
   "cell_type": "code",
   "execution_count": 46,
   "metadata": {},
   "outputs": [],
   "source": [
    "# !dir \"./convertor/fold0/labels/train2017/2.txt\""
   ]
  },
  {
   "cell_type": "code",
   "execution_count": 47,
   "metadata": {},
   "outputs": [],
   "source": [
    "# !pip install torch torchvision"
   ]
  },
  {
   "cell_type": "code",
   "execution_count": 52,
   "metadata": {},
   "outputs": [
    {
     "name": "stdout",
     "output_type": "stream",
     "text": [
      "Apex recommended for faster mixed precision training: https://github.com/NVIDIA/apex\n",
      "{'lr0': 0.01, 'momentum': 0.937, 'weight_decay': 0.0005, 'giou': 0.05, 'cls': 0.58, 'cls_pw': 1.0, 'obj': 1.0, 'obj_pw': 1.0, 'iou_t': 0.2, 'anchor_t': 4.0, 'fl_gamma': 0.0, 'hsv_h': 0.014, 'hsv_s': 0.68, 'hsv_v': 0.36, 'degrees': 0.0, 'translate': 0.0, 'scale': 0.5, 'shear': 0.0}\n",
      "Namespace(epochs=5, batch_size=16, cfg='./models/yolov5x.yaml', data='./data/coco128.yaml', img_size=[640], rect=False, resume=False, nosave=False, notest=False, noautoanchor=False, evolve=False, bucket='', cache_images=False, weights='', name='yolov5x_fold0_new', device='', adam=False, multi_scale=False, single_cls=False)\n",
      "Using CPU\n",
      "\n",
      "Start Tensorboard with \"tensorboard --logdir=runs\", view at http://localhost:6006/\n",
      "\n",
      "              from  n    params  module                                  arguments                     \n",
      "  0             -1  1      8800  models.common.Focus                     [3, 80, 3]                    \n",
      "  1             -1  1    115520  models.common.Conv                      [80, 160, 3, 2]               \n",
      "  2             -1  1    315680  models.common.BottleneckCSP             [160, 160, 4]                 \n",
      "  3             -1  1    461440  models.common.Conv                      [160, 320, 3, 2]              \n",
      "  4             -1  1   3311680  models.common.BottleneckCSP             [320, 320, 12]                \n",
      "  5             -1  1   1844480  models.common.Conv                      [320, 640, 3, 2]              \n",
      "  6             -1  1  13228160  models.common.BottleneckCSP             [640, 640, 12]                \n",
      "  7             -1  1   7375360  models.common.Conv                      [640, 1280, 3, 2]             \n",
      "  8             -1  1   4099840  models.common.SPP                       [1280, 1280, [5, 9, 13]]      \n",
      "  9             -1  1  20087040  models.common.BottleneckCSP             [1280, 1280, 4, False]        \n",
      " 10             -1  1    820480  models.common.Conv                      [1280, 640, 1, 1]             \n",
      " 11             -1  1         0  torch.nn.modules.upsampling.Upsample    [None, 2, 'nearest']          \n",
      " 12        [-1, 6]  1         0  models.common.Concat                    [1]                           \n",
      " 13             -1  1   5435520  models.common.BottleneckCSP             [1280, 640, 4, False]         \n",
      " 14             -1  1    205440  models.common.Conv                      [640, 320, 1, 1]              \n",
      " 15             -1  1         0  torch.nn.modules.upsampling.Upsample    [None, 2, 'nearest']          \n",
      " 16        [-1, 4]  1         0  models.common.Concat                    [1]                           \n",
      " 17             -1  1   1360960  models.common.BottleneckCSP             [640, 320, 4, False]          \n",
      " 18             -1  1     81855  torch.nn.modules.conv.Conv2d            [320, 255, 1, 1]              \n",
      " 19             -2  1    922240  models.common.Conv                      [320, 320, 3, 2]              \n",
      " 20       [-1, 14]  1         0  models.common.Concat                    [1]                           \n",
      " 21             -1  1   5025920  models.common.BottleneckCSP             [640, 640, 4, False]          \n",
      " 22             -1  1    163455  torch.nn.modules.conv.Conv2d            [640, 255, 1, 1]              \n",
      " 23             -2  1   3687680  models.common.Conv                      [640, 640, 3, 2]              \n",
      " 24       [-1, 10]  1         0  models.common.Concat                    [1]                           \n",
      " 25             -1  1  20087040  models.common.BottleneckCSP             [1280, 1280, 4, False]        \n",
      " 26             -1  1    326655  torch.nn.modules.conv.Conv2d            [1280, 255, 1, 1]             \n",
      " 27   [-1, 22, 18]  1         0  models.yolo.Detect                      [80, [[116, 90, 156, 198, 373, 326], [30, 61, 62, 45, 59, 119], [10, 13, 16, 30, 33, 23]]]\n"
     ]
    },
    {
     "name": "stderr",
     "output_type": "stream",
     "text": [
      "2024-03-29 20:56:14.507596: I tensorflow/core/util/port.cc:113] oneDNN custom operations are on. You may see slightly different numerical results due to floating-point round-off errors from different computation orders. To turn them off, set the environment variable `TF_ENABLE_ONEDNN_OPTS=0`.\n",
      "2024-03-29 20:56:16.728684: I tensorflow/core/util/port.cc:113] oneDNN custom operations are on. You may see slightly different numerical results due to floating-point round-off errors from different computation orders. To turn them off, set the environment variable `TF_ENABLE_ONEDNN_OPTS=0`.\n",
      "Traceback (most recent call last):\n",
      "  File \"C:\\Users\\prach\\Desktop\\Prachet\\Hackathons\\Vista Codefest24\\train.py\", line 404, in <module>\n",
      "    train(hyp)\n",
      "  File \"C:\\Users\\prach\\Desktop\\Prachet\\Hackathons\\Vista Codefest24\\train.py\", line 80, in train\n",
      "    model = Model(opt.cfg).to(device)\n",
      "            ^^^^^^^^^^^^^^\n",
      "  File \"C:\\Users\\prach\\Desktop\\Prachet\\Hackathons\\Vista Codefest24\\models\\yolo.py\", line 71, in __init__\n",
      "    self._initialize_biases()  # only run once\n",
      "    ^^^^^^^^^^^^^^^^^^^^^^^^^\n",
      "  File \"C:\\Users\\prach\\Desktop\\Prachet\\Hackathons\\Vista Codefest24\\models\\yolo.py\", line 122, in _initialize_biases\n",
      "    b[:, 4] += math.log(8 / (640 / s) ** 2)  # obj (8 objects per 640 image)\n",
      "    ^^^^^^^^^^^^^^^^^^^^^^^^^^^^^^^^^^^^^^^\n",
      "RuntimeError: a view of a leaf Variable that requires grad is being used in an in-place operation.\n"
     ]
    }
   ],
   "source": [
    "!python ./train.py --img 640 --batch 16 --epochs 5 --data ./data/coco128.yaml --cfg ./models/yolov5x.yaml --name yolov5x_fold0_new"
   ]
  },
  {
   "cell_type": "code",
   "execution_count": null,
   "metadata": {},
   "outputs": [],
   "source": [
    "!python ./detect.py --weights ./weights/best_yolov5x_fold0_new.pt --img 640 --conf 0.2 --source ./dataset/test/ --save_txt True"
   ]
  },
  {
   "cell_type": "code",
   "execution_count": null,
   "metadata": {},
   "outputs": [],
   "source": []
  }
 ],
 "metadata": {
  "kernelspec": {
   "display_name": "venv",
   "language": "python",
   "name": "venv"
  },
  "language_info": {
   "codemirror_mode": {
    "name": "ipython",
    "version": 3
   },
   "file_extension": ".py",
   "mimetype": "text/x-python",
   "name": "python",
   "nbconvert_exporter": "python",
   "pygments_lexer": "ipython3",
   "version": "3.11.3"
  }
 },
 "nbformat": 4,
 "nbformat_minor": 4
}
